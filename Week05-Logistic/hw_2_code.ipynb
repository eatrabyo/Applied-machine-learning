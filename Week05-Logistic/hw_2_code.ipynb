{
 "cells": [
  {
   "cell_type": "code",
   "execution_count": 89,
   "metadata": {},
   "outputs": [],
   "source": [
    "from math import log\n",
    "import numpy as np"
   ]
  },
  {
   "attachments": {},
   "cell_type": "markdown",
   "metadata": {},
   "source": [
    "## Ex 1 <br> Negative log loss"
   ]
  },
  {
   "cell_type": "code",
   "execution_count": 90,
   "metadata": {},
   "outputs": [],
   "source": [
    "data = [[2,3,1],[1,4,0],[4,5,1]]"
   ]
  },
  {
   "cell_type": "code",
   "execution_count": 91,
   "metadata": {},
   "outputs": [],
   "source": [
    "def y_hat(x1,x2):\n",
    "    return 0.1+0.1*(x1) + 0.1* (x2)\n",
    "def sigmoid(z):\n",
    "    \"\"\" sigmoid \"\"\"\n",
    "    return 1 / (1 + np.exp(-z))"
   ]
  },
  {
   "cell_type": "code",
   "execution_count": 92,
   "metadata": {},
   "outputs": [
    {
     "name": "stdout",
     "output_type": "stream",
     "text": [
      "negative log loss: 0.4375\n",
      "negative log loss: 1.0375\n",
      "negative log loss: 0.3133\n"
     ]
    }
   ],
   "source": [
    "for i in data:\n",
    "    h = sigmoid(y_hat(x1=i[0],x2=i[1]))\n",
    "    y = i[2]\n",
    "    if y == 1:\n",
    "        print(f\"negative log loss: {round(-(log(h)),4)}\")\n",
    "    elif y == 0:\n",
    "        # print(-(math.log(1 - cost_func(x1=i[0],x2=i[1]))))\n",
    "        print(f\"negative log loss: {round(-(log(1 - h)),4)}\")"
   ]
  },
  {
   "cell_type": "code",
   "execution_count": 93,
   "metadata": {},
   "outputs": [
    {
     "name": "stdout",
     "output_type": "stream",
     "text": [
      "row [2, 3, 1]\n",
      "h(x) = 0.6457\n",
      "negative log loss: 0.4375\n",
      "row [1, 4, 0]\n",
      "h(x) = 0.6457\n",
      "negative log loss: 1.0375\n",
      "row [4, 5, 1]\n",
      "h(x) = 0.7311\n",
      "negative log loss: 0.3133\n"
     ]
    }
   ],
   "source": [
    "for i in data:\n",
    "    h = sigmoid(y_hat(x1=i[0],x2=i[1]))\n",
    "    y = i[2]\n",
    "    print(f\"row {i}\\nh(x) = {round(h,4)}\")\n",
    "    print(f\"negative log loss: {round(y * -log(h) + (1-y) * (-log(1 - h)),4)}\")"
   ]
  },
  {
   "attachments": {},
   "cell_type": "markdown",
   "metadata": {},
   "source": [
    "## Ex 2"
   ]
  },
  {
   "attachments": {},
   "cell_type": "markdown",
   "metadata": {},
   "source": [
    "#### Stochastic Gredient Descent"
   ]
  },
  {
   "cell_type": "code",
   "execution_count": 94,
   "metadata": {},
   "outputs": [],
   "source": [
    "x = np.array([[1,2,3],[1,1,4],[1,4,5]])\n",
    "y = np.array([[1],[0],[1]])\n",
    "theta = np.array([[0.1],[0.1],[0.1]])"
   ]
  },
  {
   "cell_type": "code",
   "execution_count": 95,
   "metadata": {},
   "outputs": [],
   "source": [
    "def y_hat(x,theta):\n",
    "    return theta[0] * x[0] + theta[1] * (x[1]) + theta[2] * (x[2])\n",
    "def sigmoid(z):\n",
    "    \"\"\" sigmoid \"\"\"\n",
    "    return 1 / (1 + np.exp(-z))"
   ]
  },
  {
   "cell_type": "code",
   "execution_count": 96,
   "metadata": {},
   "outputs": [
    {
     "name": "stdout",
     "output_type": "stream",
     "text": [
      "\n",
      "y = 0.6\n",
      "round 1, row 2: h(x) = 0.6457\n",
      "theata 0 = 0.0935\n",
      "theata 1 = 0.0935\n",
      "theata 2 = 0.0742\n",
      "\n",
      "y = 0.8386\n",
      "round 2, row 3: h(x) = 0.6982\n",
      "theata 0 = 0.0966\n",
      "theata 1 = 0.1056\n",
      "theata 2 = 0.0893\n"
     ]
    }
   ],
   "source": [
    "alpha = 0.01\n",
    "row = [2,3]\n",
    "c = 1\n",
    "for v in row:\n",
    "    h = sigmoid(y_hat(x[v-1],theta))\n",
    "    e = (h - y[v-1]) ** 2\n",
    "    print(f\"\\ny = {round(y_hat(x[v-1],theta)[0],4)}\")\n",
    "    print(f\"round {c}, row {v}: h(x) = {round(h[0],4)}\")\n",
    "    # print(f\"error = {round(e[0],4)}\")\n",
    "    for i in range(len(theta)):\n",
    "        theta[i] = theta[i] - alpha * (h - y[v-1]) * x[v-1][i]\n",
    "        print(f\"theata {i} = {round(theta[i][0],4)}\")\n",
    "    c +=1"
   ]
  },
  {
   "attachments": {},
   "cell_type": "markdown",
   "metadata": {},
   "source": [
    "## Ex 3"
   ]
  },
  {
   "attachments": {},
   "cell_type": "markdown",
   "metadata": {},
   "source": [
    "#### Ridge Regression"
   ]
  },
  {
   "cell_type": "code",
   "execution_count": 97,
   "metadata": {},
   "outputs": [],
   "source": [
    "x = np.array([[1,2,3],[1,1,4],[1,4,5]])\n",
    "y = np.array([[1],[0],[1]])\n",
    "theta = np.array([[0.1],[0.1],[0.1]])"
   ]
  },
  {
   "cell_type": "code",
   "execution_count": 98,
   "metadata": {},
   "outputs": [
    {
     "name": "stdout",
     "output_type": "stream",
     "text": [
      "\n",
      "y = 0.6\n",
      "round 1, row 2, ridge way: h(x) = 0.6457\n",
      "theata 0 = 0.0835\n",
      "theata 1 = 0.0835\n",
      "theata 2 = 0.0642\n",
      "\n",
      "y = 0.7386\n",
      "round 2, row 3, ridge way: h(x) = 0.6767\n",
      "theata 0 = 0.0784\n",
      "theata 1 = 0.0881\n",
      "theata 2 = 0.0739\n"
     ]
    }
   ],
   "source": [
    "alpha = 0.01\n",
    "lamd = 10\n",
    "row = [2,3]\n",
    "c = 1\n",
    "for v in row:\n",
    "    h = sigmoid(y_hat(x[v-1],theta))\n",
    "    e = (h - y[v-1]) ** 2\n",
    "    print(f\"\\ny = {round(y_hat(x[v-1],theta)[0],4)}\")\n",
    "    print(f\"round {c}, row {v}, ridge way: h(x) = {round(h[0],4)}\")\n",
    "    # print(f\"error = {round(e[0],4)}\")\n",
    "    for i in range(len(theta)):\n",
    "        theta[i] = theta[i] - alpha * ((h - y[v-1]) * x[v-1][i] + (lamd * theta[i]))\n",
    "        print(f\"theata {i} = {round(theta[i][0],4)}\")\n",
    "    c +=1"
   ]
  },
  {
   "attachments": {},
   "cell_type": "markdown",
   "metadata": {},
   "source": [
    "#### Lasso Regression"
   ]
  },
  {
   "cell_type": "code",
   "execution_count": 99,
   "metadata": {},
   "outputs": [],
   "source": [
    "x = np.array([[1,2,3],[1,1,4],[1,4,5]])\n",
    "y = np.array([[1],[0],[1]])\n",
    "theta = np.array([[0.1],[0.1],[0.1]])"
   ]
  },
  {
   "cell_type": "code",
   "execution_count": 100,
   "metadata": {},
   "outputs": [],
   "source": [
    "# def sign(theta):\n",
    "#     if theta < 0:\n",
    "#         return -1\n",
    "#     elif theta == 0:\n",
    "#         return 0\n",
    "#     else:\n",
    "#         return 1"
   ]
  },
  {
   "cell_type": "code",
   "execution_count": 101,
   "metadata": {},
   "outputs": [],
   "source": [
    "def sign(theta,lamd):\n",
    "    if theta > lamd:\n",
    "        return theta - lamd\n",
    "    elif theta > -lamd and theta < lamd:\n",
    "        return 0\n",
    "    elif theta < -lamd:\n",
    "        return theta + lamd"
   ]
  },
  {
   "cell_type": "code",
   "execution_count": 102,
   "metadata": {},
   "outputs": [
    {
     "name": "stdout",
     "output_type": "stream",
     "text": [
      "\n",
      "y = 0.6\n",
      "round 1, row 2, lasso way: h(x) = 0.6457\n",
      "theata 0 = 0.0935\n",
      "theata 1 = 0.0935\n",
      "theata 2 = 0.0742\n",
      "\n",
      "y = 0.8386\n",
      "round 2, row 3, lasso way: h(x) = 0.6982\n",
      "theata 0 = 0.0966\n",
      "theata 1 = 0.1056\n",
      "theata 2 = 0.0893\n"
     ]
    }
   ],
   "source": [
    "alpha = 0.01\n",
    "lamd = 0.2\n",
    "row = [2,3]\n",
    "c = 1\n",
    "for v in row:\n",
    "    h = sigmoid(y_hat(x[v-1],theta))\n",
    "    e = (h - y[v-1]) ** 2\n",
    "    print(f\"\\ny = {round(y_hat(x[v-1],theta)[0],4)}\")\n",
    "    print(f\"round {c}, row {v}, lasso way: h(x) = {round(h[0],4)}\")\n",
    "    # print(f\"error = {round(e[0],4)}\")\n",
    "    for i in range(len(theta)):\n",
    "        if i == 0:\n",
    "            theta[i] = theta[i] - alpha * ((h - y[v-1]) * x[v-1][i] + (lamd * sign(theta[i],lamd)))\n",
    "            print(f\"theata {i} = {round(theta[i][0],4)}\")\n",
    "        else:\n",
    "            theta[i] = theta[i] - alpha * ((h - y[v-1]) * x[v-1][i] + (lamd * sign(theta[i],lamd)))\n",
    "            print(f\"theata {i} = {round(theta[i][0],4)}\")\n",
    "    c +=1"
   ]
  },
  {
   "cell_type": "code",
   "execution_count": null,
   "metadata": {},
   "outputs": [],
   "source": []
  }
 ],
 "metadata": {
  "kernelspec": {
   "display_name": "Python 3",
   "language": "python",
   "name": "python3"
  },
  "language_info": {
   "codemirror_mode": {
    "name": "ipython",
    "version": 3
   },
   "file_extension": ".py",
   "mimetype": "text/x-python",
   "name": "python",
   "nbconvert_exporter": "python",
   "pygments_lexer": "ipython3",
   "version": "3.10.4"
  },
  "orig_nbformat": 4,
  "vscode": {
   "interpreter": {
    "hash": "d02fa9caecc5f896fe633fc43d27834070427e465095a23735eaca3b6956fba9"
   }
  }
 },
 "nbformat": 4,
 "nbformat_minor": 2
}
