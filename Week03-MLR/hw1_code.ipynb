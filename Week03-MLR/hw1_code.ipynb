{
 "cells": [
  {
   "cell_type": "code",
   "execution_count": 25,
   "metadata": {},
   "outputs": [],
   "source": [
    "import numpy as np"
   ]
  },
  {
   "attachments": {},
   "cell_type": "markdown",
   "metadata": {},
   "source": [
    "## Ex 1"
   ]
  },
  {
   "cell_type": "code",
   "execution_count": 26,
   "metadata": {},
   "outputs": [],
   "source": [
    "x = np.matrix([[1,2],[1,5],[1,1],[1,8]])\n",
    "y = np.matrix([[12],[9],[6],[7]])"
   ]
  },
  {
   "cell_type": "code",
   "execution_count": 27,
   "metadata": {},
   "outputs": [
    {
     "data": {
      "text/plain": [
       "matrix([[ 9.16666667],\n",
       "        [-0.16666667]])"
      ]
     },
     "execution_count": 27,
     "metadata": {},
     "output_type": "execute_result"
    }
   ],
   "source": [
    "np.linalg.inv((x.transpose() * x))*(x.transpose() * y)"
   ]
  },
  {
   "attachments": {},
   "cell_type": "markdown",
   "metadata": {},
   "source": [
    "## Ex 2"
   ]
  },
  {
   "cell_type": "code",
   "execution_count": 28,
   "metadata": {},
   "outputs": [],
   "source": [
    "x = np.array([[1,2,3,6],[1,5,9,7],[1,1,4,2],[1,8,5,3]])\n",
    "y = np.array([[12],[9],[6],[7]])\n",
    "theta = np.array([[1.],[1.],[1.],[1.]])"
   ]
  },
  {
   "cell_type": "code",
   "execution_count": 29,
   "metadata": {},
   "outputs": [
    {
     "name": "stdout",
     "output_type": "stream",
     "text": [
      "round: 1\n",
      "theta 0 = 0.6875\n",
      "theta 1 = -0.8375\n",
      "theta 2 = -1.1875\n",
      "theta 3 = -0.5625\n",
      "y hat = 17.0, sse = 273.0\n",
      "\n",
      "round: 2\n",
      "theta 0 = 1.6839\n",
      "theta 1 = 3.57\n",
      "theta 2 = 4.5023\n",
      "theta 3 = 4.3798\n",
      "y hat = -13.6375, sse = 1703.2783\n",
      "\n",
      "round: 3\n",
      "theta 0 = -0.8566\n",
      "theta 1 = -8.6672\n",
      "theta 2 = -11.0454\n",
      "theta 3 = -8.375\n",
      "y hat = 65.8952, sse = 12163.2889\n",
      "\n"
     ]
    }
   ],
   "source": [
    "c = 0\n",
    "alpha = 0.05\n",
    "m = len(x)\n",
    "iter = 3\n",
    "while True:\n",
    "    j = 0\n",
    "    sse = 0\n",
    "    print(f\"round: {c+1}\")\n",
    "    for i in range(len(x)):\n",
    "        y_hat = theta[0] * x[i][0] + theta[1]* x[i][1] + theta[2] * x[i][2] + theta[3] * x[i][3]\n",
    "        j += (y_hat - y[i]) * x[i]\n",
    "        sse += (y_hat - y[i])**2\n",
    "    for i in range(len(theta)):\n",
    "        theta[i] = theta[i] - (alpha/m) * j[i]\n",
    "        print(f\"theta {i} = {round(theta[i][0],4)}\")\n",
    "    print(f\"y hat = {round(y_hat[0],4)}, sse = {round(sse[0],4)}\\n\")\n",
    "    c += 1\n",
    "    if c == iter or sse <= 5:\n",
    "        break\n",
    "    else:\n",
    "        continue"
   ]
  },
  {
   "attachments": {},
   "cell_type": "markdown",
   "metadata": {},
   "source": [
    "## Ex 3"
   ]
  },
  {
   "cell_type": "code",
   "execution_count": 30,
   "metadata": {},
   "outputs": [],
   "source": [
    "x = np.array([[1,2,3,6],[1,5,9,7],[1,1,4,2],[1,8,5,3]])\n",
    "y = np.array([[12],[9],[6],[7]])\n",
    "theta = np.array([[1.],[1.],[1.],[1.]])"
   ]
  },
  {
   "cell_type": "code",
   "execution_count": 31,
   "metadata": {},
   "outputs": [
    {
     "name": "stdout",
     "output_type": "stream",
     "text": [
      "\n",
      "round 1: y hat = 8.0 and sse = 4.0\n",
      "theta 0 = 0.9\n",
      "theta 1 = 0.9\n",
      "theta 2 = 0.6\n",
      "theta 3 = 0.8\n",
      "\n",
      "round 2: y hat = 9.3 and sse = 7.29\n",
      "theta 0 = 1.035\n",
      "theta 1 = 1.17\n",
      "theta 2 = 1.005\n",
      "theta 3 = 1.61\n",
      "\n",
      "round 3: y hat = 20.25 and sse = 175.5625\n",
      "theta 0 = 0.3725\n",
      "theta 1 = -4.13\n",
      "theta 2 = -2.3075\n",
      "theta 3 = -0.3775\n"
     ]
    }
   ],
   "source": [
    "c = 0\n",
    "alpha = 0.05\n",
    "iter = 3\n",
    "row = [3,1,4]\n",
    "for v in row:\n",
    "    y_hat = theta[0] * x[v-1][0] + theta[1]* x[v-1][1] + theta[2] * x[v-1][2] + theta[3] * x[v-1][3]\n",
    "    sse = (y_hat - y[v-1])**2\n",
    "    print(f\"\\nround {c+1}: y hat = {y_hat[0]} and sse = {round(sse[0],4)}\")\n",
    "    for i in range(len(theta)):\n",
    "        j = (y_hat - y[v-1]) * x[v-1][i]\n",
    "        theta[i] = theta[i] - (alpha * j)\n",
    "        print(f\"theta {i} = {round(theta[i][0],4)}\")\n",
    "\n",
    "    c +=1"
   ]
  },
  {
   "attachments": {},
   "cell_type": "markdown",
   "metadata": {},
   "source": [
    "## Ex 4"
   ]
  },
  {
   "cell_type": "code",
   "execution_count": 32,
   "metadata": {},
   "outputs": [],
   "source": [
    "x = np.array([[1,2,3,6],[1,5,9,7],[1,1,4,2],[1,8,5,3]])\n",
    "y = np.array([[12],[9],[6],[7]])\n",
    "theta = np.array([[1.],[1.],[1.],[1.]])"
   ]
  },
  {
   "cell_type": "code",
   "execution_count": null,
   "metadata": {},
   "outputs": [],
   "source": []
  }
 ],
 "metadata": {
  "kernelspec": {
   "display_name": "Python 3",
   "language": "python",
   "name": "python3"
  },
  "language_info": {
   "codemirror_mode": {
    "name": "ipython",
    "version": 3
   },
   "file_extension": ".py",
   "mimetype": "text/x-python",
   "name": "python",
   "nbconvert_exporter": "python",
   "pygments_lexer": "ipython3",
   "version": "3.10.4"
  },
  "orig_nbformat": 4,
  "vscode": {
   "interpreter": {
    "hash": "d02fa9caecc5f896fe633fc43d27834070427e465095a23735eaca3b6956fba9"
   }
  }
 },
 "nbformat": 4,
 "nbformat_minor": 2
}
