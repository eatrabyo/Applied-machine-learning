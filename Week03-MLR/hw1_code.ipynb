{
 "cells": [
  {
   "cell_type": "code",
   "execution_count": 1,
   "metadata": {},
   "outputs": [],
   "source": [
    "import numpy as np"
   ]
  },
  {
   "attachments": {},
   "cell_type": "markdown",
   "metadata": {},
   "source": [
    "## Ex 1"
   ]
  },
  {
   "cell_type": "code",
   "execution_count": 2,
   "metadata": {},
   "outputs": [],
   "source": [
    "x = np.matrix([[1,2],[1,5],[1,1],[1,8]])\n",
    "y = np.matrix([[12],[9],[6],[7]])"
   ]
  },
  {
   "cell_type": "code",
   "execution_count": 3,
   "metadata": {},
   "outputs": [
    {
     "data": {
      "text/plain": [
       "matrix([[ 9.16666667],\n",
       "        [-0.16666667]])"
      ]
     },
     "execution_count": 3,
     "metadata": {},
     "output_type": "execute_result"
    }
   ],
   "source": [
    "np.linalg.inv((x.transpose() * x))*(x.transpose() * y)"
   ]
  },
  {
   "attachments": {},
   "cell_type": "markdown",
   "metadata": {},
   "source": [
    "## Ex 2"
   ]
  },
  {
   "cell_type": "code",
   "execution_count": 4,
   "metadata": {},
   "outputs": [],
   "source": [
    "x = np.array([[1,2,3,6],[1,5,9,7],[1,1,4,2],[1,8,5,3]])\n",
    "y = np.array([[12],[9],[6],[7]])\n",
    "theta = np.array([[1.],[1.],[1.],[1.]])"
   ]
  },
  {
   "cell_type": "code",
   "execution_count": 5,
   "metadata": {},
   "outputs": [
    {
     "name": "stdout",
     "output_type": "stream",
     "text": [
      "theta 0 = [0.6875]\n",
      "theta 1 = [-0.8375]\n",
      "theta 2 = [-1.1875]\n",
      "theta 3 = [-0.5625]\n",
      "round: 0 sse = [273.]\n",
      "theta 0 = [1.68390625]\n",
      "theta 1 = [3.57]\n",
      "theta 2 = [4.50234375]\n",
      "theta 3 = [4.37984375]\n",
      "round: 1 sse = [1703.27828125]\n",
      "theta 0 = [-0.85661914]\n",
      "theta 1 = [-8.66717188]\n",
      "theta 2 = [-11.04544141]\n",
      "theta 3 = [-8.37501563]\n",
      "round: 2 sse = [12163.28890691]\n"
     ]
    }
   ],
   "source": [
    "c = 0\n",
    "alpha = 0.05\n",
    "m = len(x)\n",
    "iter = 3\n",
    "while True:\n",
    "    j = 0\n",
    "    sse = 0\n",
    "    for i in range(len(x)):\n",
    "        y_hat = theta[0] * x[i][0] + theta[1]* x[i][1] + theta[2] * x[i][2] + theta[3] * x[i][3]\n",
    "        j += (y_hat - y[i]) * x[i]\n",
    "        sse += (y_hat - y[i])**2\n",
    "    for i in range(len(theta)):\n",
    "        theta[i] = theta[i] - (alpha/m) * j[i]\n",
    "        print(f\"theta {i} = {theta[i]}\")\n",
    "    print(f\"round: {c} sse = {sse}\")\n",
    "    c += 1\n",
    "    if c == iter or sse <= 5:\n",
    "        break\n",
    "    else:\n",
    "        continue"
   ]
  }
 ],
 "metadata": {
  "kernelspec": {
   "display_name": "Python 3",
   "language": "python",
   "name": "python3"
  },
  "language_info": {
   "codemirror_mode": {
    "name": "ipython",
    "version": 3
   },
   "file_extension": ".py",
   "mimetype": "text/x-python",
   "name": "python",
   "nbconvert_exporter": "python",
   "pygments_lexer": "ipython3",
   "version": "3.10.4"
  },
  "orig_nbformat": 4,
  "vscode": {
   "interpreter": {
    "hash": "d02fa9caecc5f896fe633fc43d27834070427e465095a23735eaca3b6956fba9"
   }
  }
 },
 "nbformat": 4,
 "nbformat_minor": 2
}
